{
 "cells": [
  {
   "cell_type": "code",
   "execution_count": 70,
   "id": "0ef880a0",
   "metadata": {},
   "outputs": [],
   "source": [
    "import pickle\n",
    "import pandas as pd\n",
    "import sys\n",
    "import os\n",
    "import sklearn\n",
    "import json"
   ]
  },
  {
   "cell_type": "code",
   "execution_count": null,
   "id": "b96bb458-8f42-45fe-95a7-7fa6754aece0",
   "metadata": {},
   "outputs": [],
   "source": [
    "sklearn.__version__"
   ]
  },
  {
   "cell_type": "code",
   "execution_count": 34,
   "id": "038f6da6-07b4-4c20-a6ad-6101589d15ae",
   "metadata": {},
   "outputs": [],
   "source": [
    "year = 2023\n",
    "month = 3\n",
    "output_file = f'output/yellow_tripdata_{year:04d}-{month:02d}.parquet'\n",
    "input_file = f'https://d37ci6vzurychx.cloudfront.net/trip-data/yellow_tripdata_{year:04d}-{month:02d}.parquet'"
   ]
  },
  {
   "cell_type": "code",
   "execution_count": 26,
   "id": "c77c326e-5068-4344-afc7-d240cff27dbb",
   "metadata": {},
   "outputs": [],
   "source": [
    "os.makedirs('output', exist_ok=True)"
   ]
  },
  {
   "cell_type": "code",
   "execution_count": 27,
   "id": "7836ccfd",
   "metadata": {},
   "outputs": [],
   "source": [
    "with open('model.bin', 'rb') as f_in:\n",
    "    dv, model = pickle.load(f_in)"
   ]
  },
  {
   "cell_type": "code",
   "execution_count": 28,
   "id": "41c08294",
   "metadata": {},
   "outputs": [],
   "source": [
    "categorical = ['PULocationID', 'DOLocationID']\n",
    "\n",
    "def read_data(filename):\n",
    "    df = pd.read_parquet(filename)\n",
    "    \n",
    "    df['duration'] = df.tpep_dropoff_datetime - df.tpep_pickup_datetime\n",
    "    df['duration'] = df.duration.dt.total_seconds() / 60\n",
    "\n",
    "    df = df[(df.duration >= 1) & (df.duration <= 60)].copy()\n",
    "\n",
    "    df[categorical] = df[categorical].fillna(-1).astype('int').astype('str')\n",
    "    \n",
    "    return df"
   ]
  },
  {
   "cell_type": "code",
   "execution_count": 40,
   "id": "4854399a",
   "metadata": {},
   "outputs": [],
   "source": [
    "df = read_data(input_file)"
   ]
  },
  {
   "cell_type": "code",
   "execution_count": 41,
   "id": "5d83582e-0bdf-4a68-b987-a564e4135651",
   "metadata": {},
   "outputs": [],
   "source": [
    "df['ride_id'] = f'{year:04d}/{month:02d}_' + df.index.astype('str')"
   ]
  },
  {
   "cell_type": "code",
   "execution_count": 48,
   "id": "669fda0a",
   "metadata": {},
   "outputs": [],
   "source": [
    "dicts = df[categorical].to_dict(orient='records')\n",
    "X_val = dv.transform(dicts)\n",
    "y_pred = model.predict(X_val)"
   ]
  },
  {
   "cell_type": "code",
   "execution_count": 49,
   "id": "cf4c23d6-b357-4d5d-9e00-4ad0d9150679",
   "metadata": {},
   "outputs": [
    {
     "name": "stdout",
     "output_type": "stream",
     "text": [
      "6.247488852238703\n"
     ]
    }
   ],
   "source": [
    "print(f'Q1: {y_pred.std()}')"
   ]
  },
  {
   "cell_type": "code",
   "execution_count": 50,
   "id": "54933ec3-f729-4c93-baac-bf33e8c0a7ab",
   "metadata": {},
   "outputs": [],
   "source": [
    "df_result = pd.DataFrame()\n",
    "df_result['ride_id'] = df['ride_id']\n",
    "df_result['predicted_duration'] = y_pred"
   ]
  },
  {
   "cell_type": "code",
   "execution_count": 51,
   "id": "2d4260e6-7586-4d74-9f71-24c0d59a6060",
   "metadata": {},
   "outputs": [],
   "source": [
    "df_result.to_parquet(\n",
    "    output_file,\n",
    "    engine='pyarrow',\n",
    "    compression=None,\n",
    "    index=False\n",
    ")"
   ]
  },
  {
   "cell_type": "code",
   "execution_count": 65,
   "id": "f23c569c-8f74-4110-aaff-1a9c7596451a",
   "metadata": {},
   "outputs": [],
   "source": [
    "file_size_M = os.path.getsize(output_file) / 1024 / 1024"
   ]
  },
  {
   "cell_type": "code",
   "execution_count": 68,
   "id": "c13734c9-202b-48e0-9e3a-ccf429d4cf00",
   "metadata": {},
   "outputs": [
    {
     "name": "stdout",
     "output_type": "stream",
     "text": [
      "Q2: 65.46\n"
     ]
    }
   ],
   "source": [
    "print(f'Q2: {round(file_size_M, 2)}')"
   ]
  },
  {
   "cell_type": "code",
   "execution_count": 86,
   "id": "8098652b-9e86-472a-a5cc-c11fe212444d",
   "metadata": {},
   "outputs": [
    {
     "name": "stdout",
     "output_type": "stream",
     "text": [
      "sha256:057b991ac64b3e75c9c04b5f9395eaf19a6179244c089afdebaad98264bff37c\n"
     ]
    }
   ],
   "source": [
    "with open('../web-service/Pipfile.lock', 'r') as pipfile:\n",
    "    scikit_hash = json.load(pipfile)[\"default\"][\"scikit-learn\"][\"hashes\"][0]\n",
    "\n",
    "print(scikit_hash)"
   ]
  },
  {
   "cell_type": "code",
   "execution_count": 94,
   "id": "ce07bb37-523e-4d49-9144-dee3462d4040",
   "metadata": {},
   "outputs": [
    {
     "name": "stdout",
     "output_type": "stream",
     "text": [
      "Q1 Standard deviation for 2023-03: 6.247488852238703\n",
      "Q2 Size of the output parquet file: 65.46\n",
      "Q3 Command to turn the notebook into a script: jupyter nbconvert --to script starter.ipynb\n",
      "Q4 First hash for the Scikit-Learn dependency: sha256:057b991ac64b3e75c9c04b5f9395eaf19a6179244c089afdebaad98264bff37c\n",
      "Q5 Mean predicted duration for 2023-03: 14.2\n"
     ]
    }
   ],
   "source": [
    "print(f'Q1 Standard deviation for {year:04d}-{month:02d}: {y_pred.std()}')\n",
    "print(f'Q2 Size of the output parquet file: {round(file_size_M, 2)}')\n",
    "print(f'Q3 Command to turn the notebook into a script: jupyter nbconvert --to script starter.ipynb')\n",
    "print(f'Q4 First hash for the Scikit-Learn dependency: {scikit_hash}')\n",
    "print(f'Q5 Mean predicted duration for {year:04d}-{month:02d}: {round(y_pred.mean(), 2)}')"
   ]
  }
 ],
 "metadata": {
  "kernelspec": {
   "display_name": "Python 3 (ipykernel)",
   "language": "python",
   "name": "python3"
  },
  "language_info": {
   "codemirror_mode": {
    "name": "ipython",
    "version": 3
   },
   "file_extension": ".py",
   "mimetype": "text/x-python",
   "name": "python",
   "nbconvert_exporter": "python",
   "pygments_lexer": "ipython3",
   "version": "3.13.5"
  }
 },
 "nbformat": 4,
 "nbformat_minor": 5
}
